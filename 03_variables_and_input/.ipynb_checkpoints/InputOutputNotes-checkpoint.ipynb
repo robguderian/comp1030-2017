{
 "cells": [
  {
   "cell_type": "markdown",
   "metadata": {},
   "source": [
    "# Variables and Input\n",
    "\n",
    "How to take information from the user"
   ]
  },
  {
   "cell_type": "code",
   "execution_count": 8,
   "metadata": {
    "collapsed": false
   },
   "outputs": [
    {
     "name": "stdout",
     "output_type": "stream",
     "text": [
      "hello world! >anything I want< I can type more stuff after there\n"
     ]
    }
   ],
   "source": [
    "first_str = \"anything I want\"\n",
    "\n",
    "print( \"hello world! >%s< I can type more stuff after there\"%(first_str) )"
   ]
  },
  {
   "cell_type": "code",
   "execution_count": 9,
   "metadata": {
    "collapsed": false
   },
   "outputs": [
    {
     "name": "stdout",
     "output_type": "stream",
     "text": [
      "anything I want anything I want\n"
     ]
    }
   ],
   "source": [
    "print( \"%s %s\"%(first_str, first_str) )"
   ]
  },
  {
   "cell_type": "code",
   "execution_count": 13,
   "metadata": {
    "collapsed": false
   },
   "outputs": [
    {
     "name": "stdout",
     "output_type": "stream",
     "text": [
      "What % printing\n"
     ]
    }
   ],
   "source": [
    "# how do you print a % sign?\n",
    "print(\"What %% printing +-/*\"%() )"
   ]
  },
  {
   "cell_type": "code",
   "execution_count": 16,
   "metadata": {
    "collapsed": false
   },
   "outputs": [
    {
     "name": "stdout",
     "output_type": "stream",
     "text": [
      " \"  \n"
     ]
    }
   ],
   "source": [
    "# how do you print double quotes\n",
    "# escape character\n",
    "print(\" \\\"  \")"
   ]
  },
  {
   "cell_type": "code",
   "execution_count": 18,
   "metadata": {
    "collapsed": false
   },
   "outputs": [
    {
     "name": "stdout",
     "output_type": "stream",
     "text": [
      "C:\\User\\Some Dude\\\n"
     ]
    }
   ],
   "source": [
    "print(\"C:\\\\User\\\\Some Dude\\\\\")"
   ]
  },
  {
   "cell_type": "code",
   "execution_count": 19,
   "metadata": {
    "collapsed": false
   },
   "outputs": [
    {
     "name": "stdout",
     "output_type": "stream",
     "text": [
      "First line\n",
      "Second line\n"
     ]
    }
   ],
   "source": [
    "print(\"First line\\nSecond line\")"
   ]
  },
  {
   "cell_type": "code",
   "execution_count": 22,
   "metadata": {
    "collapsed": false
   },
   "outputs": [
    {
     "ename": "SyntaxError",
     "evalue": "invalid syntax (<ipython-input-22-ecafb50d03da>, line 2)",
     "output_type": "error",
     "traceback": [
      "\u001b[0;36m  File \u001b[0;32m\"<ipython-input-22-ecafb50d03da>\"\u001b[0;36m, line \u001b[0;32m2\u001b[0m\n\u001b[0;31m    the_quest = raw_input(“what is your quest?”)\u001b[0m\n\u001b[0m                          ^\u001b[0m\n\u001b[0;31mSyntaxError\u001b[0m\u001b[0;31m:\u001b[0m invalid syntax\n"
     ]
    }
   ],
   "source": [
    "the_name = raw_input(\"what is your name?\")\n",
    "the_quest = raw_input(\"what is your quest?\")\n",
    "the_colour = raw_input(\"what is your favourite colour\")\n"
   ]
  }
 ],
 "metadata": {
  "kernelspec": {
   "display_name": "Python 2",
   "language": "python",
   "name": "python2"
  },
  "language_info": {
   "codemirror_mode": {
    "name": "ipython",
    "version": 2
   },
   "file_extension": ".py",
   "mimetype": "text/x-python",
   "name": "python",
   "nbconvert_exporter": "python",
   "pygments_lexer": "ipython2",
   "version": "2.7.13"
  }
 },
 "nbformat": 4,
 "nbformat_minor": 2
}
