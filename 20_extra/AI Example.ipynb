{
 "cells": [
  {
   "cell_type": "markdown",
   "metadata": {},
   "source": [
    "# Decision Tree example"
   ]
  },
  {
   "cell_type": "code",
   "execution_count": 30,
   "metadata": {},
   "outputs": [
    {
     "name": "stdout",
     "output_type": "stream",
     "text": [
      "['Harry Potter', '86', '90', '64', '76', '72', '68', '65', '89', '80.45', 'A']\n",
      "['Ron Weasley', '51', '62', '59', '56', '60', '53', '57', '57', '56.75', 'D']\n",
      "['Hermione Granger', '96', '99', '100', '100', '96', '98', '96', '98', '97.75', 'A+']\n",
      "['Lord Voldemort', '57', '99', '67', '66', '92', '94', '41', '25', '47.1', 'F']\n",
      "['Albus Dumbledore', '97', '97', '100', '99', '96', '96', '96', '96', '96.45', 'A+']\n",
      "['Severus Snape', '74', '96', '61', '78', '71', '61', '92', '98', '87.9', 'A']\n",
      "['Rubeus Hagrid', '48', '41', '53', '36', '52', '60', '52', '45', '47.8', 'F']\n",
      "['Draco Malfoy', '81', '86', '73', '73', '60', '74', '69', '69', '70.9', 'B']\n",
      "['Vincent Crabbe', '39', '24', '42', '17', '10', '12', '49', '28', '29.15', 'F']\n",
      "['Gregory Goyle', '31', '44', '43', '31', '49', '37', '35', '20', '28.85', 'F']\n",
      "['Neville Longbottom', '100', '100', '100', '100', '100', '100', '100', '100', '100', 'A+']\n"
     ]
    }
   ],
   "source": [
    "myFile = open('class.csv')\n",
    "\n",
    "features = []\n",
    "labels = []\n",
    "skipFirst = True\n",
    "for line in myFile.readlines():\n",
    "    if not skipFirst:\n",
    "        cleanline = line.strip()\n",
    "        theseFeatures = cleanline.split(\",\")\n",
    "        print(theseFeatures)\n",
    "        featuresToAdd = [float(theseFeatures[1]),\n",
    "                        float(theseFeatures[2]),\n",
    "                        float(theseFeatures[3]),\n",
    "                        float(theseFeatures[4]),\n",
    "                        float(theseFeatures[5]),\n",
    "                        float(theseFeatures[6]),\n",
    "                        float(theseFeatures[7]),\n",
    "                        float(theseFeatures[8])]\n",
    "        labels.append(theseFeatures[10])\n",
    "        features.append(featuresToAdd)\n",
    "    skipFirst = False"
   ]
  },
  {
   "cell_type": "code",
   "execution_count": 31,
   "metadata": {},
   "outputs": [
    {
     "data": {
      "text/plain": [
       "['A', 'D', 'A+', 'F', 'A+', 'A', 'F', 'B', 'F', 'F', 'A+']"
      ]
     },
     "execution_count": 31,
     "metadata": {},
     "output_type": "execute_result"
    }
   ],
   "source": [
    "labels\n"
   ]
  },
  {
   "cell_type": "code",
   "execution_count": 32,
   "metadata": {},
   "outputs": [
    {
     "data": {
      "text/plain": [
       "[[86.0, 90.0, 64.0, 76.0, 72.0, 68.0, 65.0, 89.0],\n",
       " [51.0, 62.0, 59.0, 56.0, 60.0, 53.0, 57.0, 57.0],\n",
       " [96.0, 99.0, 100.0, 100.0, 96.0, 98.0, 96.0, 98.0],\n",
       " [57.0, 99.0, 67.0, 66.0, 92.0, 94.0, 41.0, 25.0],\n",
       " [97.0, 97.0, 100.0, 99.0, 96.0, 96.0, 96.0, 96.0],\n",
       " [74.0, 96.0, 61.0, 78.0, 71.0, 61.0, 92.0, 98.0],\n",
       " [48.0, 41.0, 53.0, 36.0, 52.0, 60.0, 52.0, 45.0],\n",
       " [81.0, 86.0, 73.0, 73.0, 60.0, 74.0, 69.0, 69.0],\n",
       " [39.0, 24.0, 42.0, 17.0, 10.0, 12.0, 49.0, 28.0],\n",
       " [31.0, 44.0, 43.0, 31.0, 49.0, 37.0, 35.0, 20.0],\n",
       " [100.0, 100.0, 100.0, 100.0, 100.0, 100.0, 100.0, 100.0]]"
      ]
     },
     "execution_count": 32,
     "metadata": {},
     "output_type": "execute_result"
    }
   ],
   "source": [
    "features"
   ]
  },
  {
   "cell_type": "code",
   "execution_count": 33,
   "metadata": {},
   "outputs": [],
   "source": [
    "from sklearn import tree\n",
    "clf = tree.DecisionTreeClassifier()\n",
    "clf = clf.fit(features, labels)"
   ]
  },
  {
   "cell_type": "code",
   "execution_count": 35,
   "metadata": {},
   "outputs": [
    {
     "data": {
      "text/plain": [
       "array(['A'],\n",
       "      dtype='<U2')"
      ]
     },
     "execution_count": 35,
     "metadata": {},
     "output_type": "execute_result"
    }
   ],
   "source": [
    "testData = [ 86, 90, 64, 76, 72, 68, 65, 89]\n",
    "clf.predict([testData])\n"
   ]
  },
  {
   "cell_type": "code",
   "execution_count": 36,
   "metadata": {
    "collapsed": true
   },
   "outputs": [],
   "source": [
    "import random"
   ]
  },
  {
   "cell_type": "code",
   "execution_count": 52,
   "metadata": {},
   "outputs": [
    {
     "name": "stdout",
     "output_type": "stream",
     "text": [
      "[64, 62, 63, 63, 60, 61, 63, 62]\n"
     ]
    },
    {
     "data": {
      "text/plain": [
       "array(['D'],\n",
       "      dtype='<U2')"
      ]
     },
     "execution_count": 52,
     "metadata": {},
     "output_type": "execute_result"
    }
   ],
   "source": [
    "# python dark magic\n",
    "# google list comprehension\n",
    "testData = [random.randint(60, 65) for _ in range(0, 8)] \n",
    "print(testData)\n",
    "clf.predict([testData])"
   ]
  },
  {
   "cell_type": "code",
   "execution_count": 55,
   "metadata": {},
   "outputs": [
    {
     "name": "stdout",
     "output_type": "stream",
     "text": [
      "['Harry Potter', '86', '90', '64', '76', '72', '68', '65', '89', '80.45', 'A']\n",
      "['Ron Weasley', '51', '62', '59', '56', '60', '53', '57', '57', '56.75', 'D']\n",
      "['Hermione Granger', '96', '99', '100', '100', '96', '98', '96', '98', '97.75', 'A+']\n",
      "['Lord Voldemort', '57', '99', '67', '66', '92', '94', '41', '25', '47.1', 'F']\n",
      "['Albus Dumbledore', '97', '97', '100', '99', '96', '96', '96', '96', '96.45', 'A+']\n",
      "['Severus Snape', '74', '96', '61', '78', '71', '61', '92', '98', '87.9', 'A']\n",
      "['Rubeus Hagrid', '48', '41', '53', '36', '52', '60', '52', '45', '47.8', 'F']\n",
      "['Draco Malfoy', '81', '86', '73', '73', '60', '74', '69', '69', '70.9', 'B']\n",
      "['Vincent Crabbe', '39', '24', '42', '17', '10', '12', '49', '28', '29.15', 'F']\n",
      "['Gregory Goyle', '31', '44', '43', '31', '49', '37', '35', '20', '28.85', 'F']\n",
      "['Neville Longbottom', '100', '100', '100', '100', '100', '100', '100', '100', '100', 'A+']\n"
     ]
    }
   ],
   "source": [
    "myFile = open('class.csv')\n",
    "\n",
    "features = []\n",
    "labels = []\n",
    "skipFirst = True\n",
    "for line in myFile.readlines():\n",
    "    if not skipFirst:\n",
    "        cleanline = line.strip()\n",
    "        theseFeatures = cleanline.split(\",\")\n",
    "        print(theseFeatures)\n",
    "        featuresToAdd = [float(theseFeatures[1]),\n",
    "                        float(theseFeatures[2]),\n",
    "                        float(theseFeatures[3]),\n",
    "                        float(theseFeatures[4]),\n",
    "                        float(theseFeatures[5]),\n",
    "                        float(theseFeatures[6]),\n",
    "                        float(theseFeatures[7]),\n",
    "                        float(theseFeatures[8])]\n",
    "        labels.append(theseFeatures[9])\n",
    "        features.append(featuresToAdd)\n",
    "    skipFirst = False"
   ]
  },
  {
   "cell_type": "code",
   "execution_count": 56,
   "metadata": {},
   "outputs": [],
   "source": [
    "from sklearn import tree\n",
    "clf = tree.DecisionTreeRegressor()\n",
    "clf = clf.fit(features, labels)"
   ]
  },
  {
   "cell_type": "code",
   "execution_count": 57,
   "metadata": {},
   "outputs": [
    {
     "name": "stdout",
     "output_type": "stream",
     "text": [
      "[65, 60, 63, 60, 65, 62, 63, 62]\n"
     ]
    },
    {
     "data": {
      "text/plain": [
       "array([ 56.75])"
      ]
     },
     "execution_count": 57,
     "metadata": {},
     "output_type": "execute_result"
    }
   ],
   "source": [
    "# python dark magic\n",
    "# google list comprehension\n",
    "testData = [random.randint(60, 65) for _ in range(0, 8)] \n",
    "print(testData)\n",
    "clf.predict([testData])"
   ]
  },
  {
   "cell_type": "code",
   "execution_count": 60,
   "metadata": {},
   "outputs": [
    {
     "name": "stdout",
     "output_type": "stream",
     "text": [
      "None\n"
     ]
    }
   ],
   "source": []
  },
  {
   "cell_type": "code",
   "execution_count": null,
   "metadata": {
    "collapsed": true
   },
   "outputs": [],
   "source": []
  },
  {
   "cell_type": "code",
   "execution_count": null,
   "metadata": {
    "collapsed": true
   },
   "outputs": [],
   "source": []
  },
  {
   "cell_type": "code",
   "execution_count": null,
   "metadata": {
    "collapsed": true
   },
   "outputs": [],
   "source": []
  },
  {
   "cell_type": "code",
   "execution_count": null,
   "metadata": {
    "collapsed": true
   },
   "outputs": [],
   "source": []
  }
 ],
 "metadata": {
  "kernelspec": {
   "display_name": "Python 3",
   "language": "python",
   "name": "python3"
  },
  "language_info": {
   "codemirror_mode": {
    "name": "ipython",
    "version": 3
   },
   "file_extension": ".py",
   "mimetype": "text/x-python",
   "name": "python",
   "nbconvert_exporter": "python",
   "pygments_lexer": "ipython3",
   "version": "3.6.3"
  }
 },
 "nbformat": 4,
 "nbformat_minor": 2
}
